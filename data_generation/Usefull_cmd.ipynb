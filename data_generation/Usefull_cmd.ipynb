{
 "cells": [
  {
   "attachments": {},
   "cell_type": "markdown",
   "metadata": {},
   "source": [
    "## In questo modo si può eseguire un programma in background, senza che venga interrotto quando si chiude la sessione di terminale e inoltre si può riaprire la sessione di terminale e vedere l'output del programma.\n",
    "\n",
    "### Per creare una nuova sessione di terminale\n",
    "    screen -S nome_terminale\n",
    "    \n",
    "### Per tornare al terminale precedente\n",
    "    CTRL + A + D\n",
    "\n",
    "### Per chiudere una sessione di terminale\n",
    "    screen -X -S nome_terminale quit\n",
    "\n",
    "### Per vedere le sessioni di terminale aperte\n",
    "    screen -ls\n",
    "\n",
    "### Per riaprire una sessione di terminale\n",
    "    screen -r nome_terminale\n",
    "\n",
    "### Per chiudere da dentro la sessione di terminale\n",
    "    exit\n",
    "\n",
    "### Per eseguire in background senza bisogno di output:\n",
    "    python nome_programma.py &    "
   ]
  },
  {
   "attachments": {},
   "cell_type": "markdown",
   "metadata": {},
   "source": [
    "### Spostare dati da locale a server\n",
    "    scp /percorso/delle/immagini/* nome_utente@aimagelab-srv-00.ing.unimore.it:/percorso/destinazione/\n",
    "scp \"C:/Users/dany0/Desktop/cose/nuovo/* dcaputo@aimagelab-srv-00.ing.unimore.it:/homes/dcaputo/handwritten-math-recognition/data_generation/input_folder\n",
    "    "
   ]
  },
  {
   "cell_type": "markdown",
   "metadata": {},
   "source": [
    "srun -c 24 --mem 10G --time 01:00:00 --partition=students-prod --pty bash"
   ]
  }
 ],
 "metadata": {
  "language_info": {
   "name": "python"
  },
  "orig_nbformat": 4
 },
 "nbformat": 4,
 "nbformat_minor": 2
}
