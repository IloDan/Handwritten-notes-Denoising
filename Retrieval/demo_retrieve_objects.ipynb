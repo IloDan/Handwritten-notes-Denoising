{
 "cells": [
  {
   "cell_type": "markdown",
   "metadata": {},
   "source": [
    "### Import Dependencies"
   ]
  },
  {
   "cell_type": "code",
   "execution_count": null,
   "metadata": {},
   "outputs": [],
   "source": [
    "import torch\n",
    "from PIL import Image\n",
    "from tabulate import tabulate\n",
    "\n",
    "from rmac import SearchEngine\n",
    "from utils import show_query_img, show_top_matches"
   ]
  },
  {
   "cell_type": "markdown",
   "metadata": {},
   "source": [
    "### Open Image Query and Bounding Boxes Queries"
   ]
  },
  {
   "cell_type": "code",
   "execution_count": null,
   "metadata": {},
   "outputs": [],
   "source": [
    "# Open image \n",
    "query_path = \"db/img_80.jpg\"\n",
    "\n",
    "# Bounding Boxes queries\n",
    "query_bbs = torch.tensor([[400, 250, 350, 350]])\n",
    "\n",
    "# Show query image\n",
    "show_query_img(img_path=query_path, bbs=query_bbs)"
   ]
  },
  {
   "cell_type": "markdown",
   "metadata": {},
   "source": [
    "---"
   ]
  },
  {
   "cell_type": "markdown",
   "metadata": {},
   "source": [
    "### Instantiate Search Engine Object with VGG16 Backbone"
   ]
  },
  {
   "cell_type": "code",
   "execution_count": null,
   "metadata": {},
   "outputs": [],
   "source": [
    "img_ret = SearchEngine(backbone='vgg16', max_scale_level=6)"
   ]
  },
  {
   "cell_type": "markdown",
   "metadata": {},
   "source": [
    "### Retrieve Similar Objects"
   ]
  },
  {
   "cell_type": "code",
   "execution_count": null,
   "metadata": {},
   "outputs": [],
   "source": [
    "# Compute top matches\n",
    "img = Image.open(query_path).convert('RGB')\n",
    "img = img_ret.transform(img).to(img_ret.device)\n",
    "results = img_ret.retrieve_object(img=img, query_bbs=query_bbs)\n",
    "\n",
    "table = [(path, score, bbs) for path, score, bbs in results]\n",
    "\n",
    "print(f\"Top matches for query {query_path}:\")\n",
    "print(tabulate(table, headers=['Path', 'Score', 'Bounding Boxes'], tablefmt=\"rounded_grid\"))"
   ]
  },
  {
   "cell_type": "code",
   "execution_count": null,
   "metadata": {},
   "outputs": [],
   "source": [
    "show_top_matches(results)"
   ]
  },
  {
   "cell_type": "markdown",
   "metadata": {},
   "source": [
    "---"
   ]
  },
  {
   "cell_type": "markdown",
   "metadata": {},
   "source": [
    "### Instantiate Search Engine Object with VGG19 Backbone"
   ]
  },
  {
   "cell_type": "code",
   "execution_count": null,
   "metadata": {},
   "outputs": [],
   "source": [
    "img_ret = SearchEngine(backbone='vgg19', max_scale_level=6)"
   ]
  },
  {
   "cell_type": "markdown",
   "metadata": {},
   "source": [
    "### Retrieve Similar Objects"
   ]
  },
  {
   "cell_type": "code",
   "execution_count": null,
   "metadata": {},
   "outputs": [],
   "source": [
    "# Compute top matches\n",
    "img = Image.open(query_path).convert('RGB')\n",
    "img = img_ret.transform(img).to(img_ret.device)\n",
    "results = img_ret.retrieve_object(img=img, query_bbs=query_bbs)\n",
    "\n",
    "table = [(path, score, bbs) for path, score, bbs in results]\n",
    "\n",
    "print(f\"Top matches for query {query_path}:\")\n",
    "print(tabulate(table, headers=['Path', 'Score', 'Bounding Boxes'], tablefmt=\"rounded_grid\"))"
   ]
  },
  {
   "cell_type": "code",
   "execution_count": null,
   "metadata": {},
   "outputs": [],
   "source": [
    "show_top_matches(results)"
   ]
  },
  {
   "cell_type": "markdown",
   "metadata": {},
   "source": [
    "---"
   ]
  },
  {
   "cell_type": "markdown",
   "metadata": {},
   "source": [
    "### Instantiate Search Engine Object with DenseNet Backbone"
   ]
  },
  {
   "cell_type": "code",
   "execution_count": null,
   "metadata": {},
   "outputs": [],
   "source": [
    "img_ret = SearchEngine(backbone='densenet', max_scale_level=6)"
   ]
  },
  {
   "cell_type": "markdown",
   "metadata": {},
   "source": [
    "### Retrieve Similar Objects"
   ]
  },
  {
   "cell_type": "code",
   "execution_count": null,
   "metadata": {},
   "outputs": [],
   "source": [
    "# Compute top matches\n",
    "img = Image.open(query_path).convert('RGB')\n",
    "img = img_ret.transform(img).to(img_ret.device)\n",
    "results = img_ret.retrieve_object(img=img, query_bbs=query_bbs)\n",
    "\n",
    "table = [(path, score, bbs) for path, score, bbs in results]\n",
    "\n",
    "print(f\"Top matches for query {query_path}:\")\n",
    "print(tabulate(table, headers=['Path', 'Score', 'Bounding Boxes'], tablefmt=\"rounded_grid\"))"
   ]
  },
  {
   "cell_type": "code",
   "execution_count": null,
   "metadata": {},
   "outputs": [],
   "source": [
    "show_top_matches(results)"
   ]
  }
 ],
 "metadata": {
  "kernelspec": {
   "display_name": "Python 3 (ipykernel)",
   "language": "python",
   "name": "python3"
  },
  "language_info": {
   "codemirror_mode": {
    "name": "ipython",
    "version": 3
   },
   "file_extension": ".py",
   "mimetype": "text/x-python",
   "name": "python",
   "nbconvert_exporter": "python",
   "pygments_lexer": "ipython3",
   "version": "3.10.12"
  }
 },
 "nbformat": 4,
 "nbformat_minor": 4
}
